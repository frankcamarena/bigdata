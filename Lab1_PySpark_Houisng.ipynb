{
  "nbformat": 4,
  "nbformat_minor": 0,
  "metadata": {
    "colab": {
      "provenance": []
    },
    "kernelspec": {
      "name": "python3",
      "display_name": "Python 3"
    },
    "language_info": {
      "name": "python"
    }
  },
  "cells": [
    {
      "cell_type": "code",
      "execution_count": 1,
      "metadata": {
        "colab": {
          "base_uri": "https://localhost:8080/"
        },
        "id": "zPizRhzPCNCu",
        "outputId": "5d3977a7-712f-4b53-a7fa-df5c269ae4ac"
      },
      "outputs": [
        {
          "output_type": "stream",
          "name": "stdout",
          "text": [
            "Collecting pyspark\n",
            "  Downloading pyspark-3.5.1.tar.gz (317.0 MB)\n",
            "\u001b[2K     \u001b[90m━━━━━━━━━━━━━━━━━━━━━━━━━━━━━━━━━━━━━━━━\u001b[0m \u001b[32m317.0/317.0 MB\u001b[0m \u001b[31m2.8 MB/s\u001b[0m eta \u001b[36m0:00:00\u001b[0m\n",
            "\u001b[?25h  Preparing metadata (setup.py) ... \u001b[?25l\u001b[?25hdone\n",
            "Requirement already satisfied: py4j==0.10.9.7 in /usr/local/lib/python3.10/dist-packages (from pyspark) (0.10.9.7)\n",
            "Building wheels for collected packages: pyspark\n",
            "  Building wheel for pyspark (setup.py) ... \u001b[?25l\u001b[?25hdone\n",
            "  Created wheel for pyspark: filename=pyspark-3.5.1-py2.py3-none-any.whl size=317488491 sha256=e8918db5c435dcc7d1857fea98d0bf33672451dd0c975a5b5757a3258b29d01d\n",
            "  Stored in directory: /root/.cache/pip/wheels/80/1d/60/2c256ed38dddce2fdd93be545214a63e02fbd8d74fb0b7f3a6\n",
            "Successfully built pyspark\n",
            "Installing collected packages: pyspark\n",
            "Successfully installed pyspark-3.5.1\n"
          ]
        }
      ],
      "source": [
        "# Install PySpark\n",
        "!pip install pyspark"
      ]
    },
    {
      "cell_type": "code",
      "source": [
        "# Upload data\n",
        "from google.colab import files\n",
        "uploaded = files.upload()"
      ],
      "metadata": {
        "colab": {
          "base_uri": "https://localhost:8080/",
          "height": 73
        },
        "id": "G9OtN1e2Ctmg",
        "outputId": "06feabc1-8232-41cb-bf36-2dbe3a7a9485"
      },
      "execution_count": 2,
      "outputs": [
        {
          "output_type": "display_data",
          "data": {
            "text/plain": [
              "<IPython.core.display.HTML object>"
            ],
            "text/html": [
              "\n",
              "     <input type=\"file\" id=\"files-35d8af32-8bcf-4073-b6d7-2119202d1746\" name=\"files[]\" multiple disabled\n",
              "        style=\"border:none\" />\n",
              "     <output id=\"result-35d8af32-8bcf-4073-b6d7-2119202d1746\">\n",
              "      Upload widget is only available when the cell has been executed in the\n",
              "      current browser session. Please rerun this cell to enable.\n",
              "      </output>\n",
              "      <script>// Copyright 2017 Google LLC\n",
              "//\n",
              "// Licensed under the Apache License, Version 2.0 (the \"License\");\n",
              "// you may not use this file except in compliance with the License.\n",
              "// You may obtain a copy of the License at\n",
              "//\n",
              "//      http://www.apache.org/licenses/LICENSE-2.0\n",
              "//\n",
              "// Unless required by applicable law or agreed to in writing, software\n",
              "// distributed under the License is distributed on an \"AS IS\" BASIS,\n",
              "// WITHOUT WARRANTIES OR CONDITIONS OF ANY KIND, either express or implied.\n",
              "// See the License for the specific language governing permissions and\n",
              "// limitations under the License.\n",
              "\n",
              "/**\n",
              " * @fileoverview Helpers for google.colab Python module.\n",
              " */\n",
              "(function(scope) {\n",
              "function span(text, styleAttributes = {}) {\n",
              "  const element = document.createElement('span');\n",
              "  element.textContent = text;\n",
              "  for (const key of Object.keys(styleAttributes)) {\n",
              "    element.style[key] = styleAttributes[key];\n",
              "  }\n",
              "  return element;\n",
              "}\n",
              "\n",
              "// Max number of bytes which will be uploaded at a time.\n",
              "const MAX_PAYLOAD_SIZE = 100 * 1024;\n",
              "\n",
              "function _uploadFiles(inputId, outputId) {\n",
              "  const steps = uploadFilesStep(inputId, outputId);\n",
              "  const outputElement = document.getElementById(outputId);\n",
              "  // Cache steps on the outputElement to make it available for the next call\n",
              "  // to uploadFilesContinue from Python.\n",
              "  outputElement.steps = steps;\n",
              "\n",
              "  return _uploadFilesContinue(outputId);\n",
              "}\n",
              "\n",
              "// This is roughly an async generator (not supported in the browser yet),\n",
              "// where there are multiple asynchronous steps and the Python side is going\n",
              "// to poll for completion of each step.\n",
              "// This uses a Promise to block the python side on completion of each step,\n",
              "// then passes the result of the previous step as the input to the next step.\n",
              "function _uploadFilesContinue(outputId) {\n",
              "  const outputElement = document.getElementById(outputId);\n",
              "  const steps = outputElement.steps;\n",
              "\n",
              "  const next = steps.next(outputElement.lastPromiseValue);\n",
              "  return Promise.resolve(next.value.promise).then((value) => {\n",
              "    // Cache the last promise value to make it available to the next\n",
              "    // step of the generator.\n",
              "    outputElement.lastPromiseValue = value;\n",
              "    return next.value.response;\n",
              "  });\n",
              "}\n",
              "\n",
              "/**\n",
              " * Generator function which is called between each async step of the upload\n",
              " * process.\n",
              " * @param {string} inputId Element ID of the input file picker element.\n",
              " * @param {string} outputId Element ID of the output display.\n",
              " * @return {!Iterable<!Object>} Iterable of next steps.\n",
              " */\n",
              "function* uploadFilesStep(inputId, outputId) {\n",
              "  const inputElement = document.getElementById(inputId);\n",
              "  inputElement.disabled = false;\n",
              "\n",
              "  const outputElement = document.getElementById(outputId);\n",
              "  outputElement.innerHTML = '';\n",
              "\n",
              "  const pickedPromise = new Promise((resolve) => {\n",
              "    inputElement.addEventListener('change', (e) => {\n",
              "      resolve(e.target.files);\n",
              "    });\n",
              "  });\n",
              "\n",
              "  const cancel = document.createElement('button');\n",
              "  inputElement.parentElement.appendChild(cancel);\n",
              "  cancel.textContent = 'Cancel upload';\n",
              "  const cancelPromise = new Promise((resolve) => {\n",
              "    cancel.onclick = () => {\n",
              "      resolve(null);\n",
              "    };\n",
              "  });\n",
              "\n",
              "  // Wait for the user to pick the files.\n",
              "  const files = yield {\n",
              "    promise: Promise.race([pickedPromise, cancelPromise]),\n",
              "    response: {\n",
              "      action: 'starting',\n",
              "    }\n",
              "  };\n",
              "\n",
              "  cancel.remove();\n",
              "\n",
              "  // Disable the input element since further picks are not allowed.\n",
              "  inputElement.disabled = true;\n",
              "\n",
              "  if (!files) {\n",
              "    return {\n",
              "      response: {\n",
              "        action: 'complete',\n",
              "      }\n",
              "    };\n",
              "  }\n",
              "\n",
              "  for (const file of files) {\n",
              "    const li = document.createElement('li');\n",
              "    li.append(span(file.name, {fontWeight: 'bold'}));\n",
              "    li.append(span(\n",
              "        `(${file.type || 'n/a'}) - ${file.size} bytes, ` +\n",
              "        `last modified: ${\n",
              "            file.lastModifiedDate ? file.lastModifiedDate.toLocaleDateString() :\n",
              "                                    'n/a'} - `));\n",
              "    const percent = span('0% done');\n",
              "    li.appendChild(percent);\n",
              "\n",
              "    outputElement.appendChild(li);\n",
              "\n",
              "    const fileDataPromise = new Promise((resolve) => {\n",
              "      const reader = new FileReader();\n",
              "      reader.onload = (e) => {\n",
              "        resolve(e.target.result);\n",
              "      };\n",
              "      reader.readAsArrayBuffer(file);\n",
              "    });\n",
              "    // Wait for the data to be ready.\n",
              "    let fileData = yield {\n",
              "      promise: fileDataPromise,\n",
              "      response: {\n",
              "        action: 'continue',\n",
              "      }\n",
              "    };\n",
              "\n",
              "    // Use a chunked sending to avoid message size limits. See b/62115660.\n",
              "    let position = 0;\n",
              "    do {\n",
              "      const length = Math.min(fileData.byteLength - position, MAX_PAYLOAD_SIZE);\n",
              "      const chunk = new Uint8Array(fileData, position, length);\n",
              "      position += length;\n",
              "\n",
              "      const base64 = btoa(String.fromCharCode.apply(null, chunk));\n",
              "      yield {\n",
              "        response: {\n",
              "          action: 'append',\n",
              "          file: file.name,\n",
              "          data: base64,\n",
              "        },\n",
              "      };\n",
              "\n",
              "      let percentDone = fileData.byteLength === 0 ?\n",
              "          100 :\n",
              "          Math.round((position / fileData.byteLength) * 100);\n",
              "      percent.textContent = `${percentDone}% done`;\n",
              "\n",
              "    } while (position < fileData.byteLength);\n",
              "  }\n",
              "\n",
              "  // All done.\n",
              "  yield {\n",
              "    response: {\n",
              "      action: 'complete',\n",
              "    }\n",
              "  };\n",
              "}\n",
              "\n",
              "scope.google = scope.google || {};\n",
              "scope.google.colab = scope.google.colab || {};\n",
              "scope.google.colab._files = {\n",
              "  _uploadFiles,\n",
              "  _uploadFilesContinue,\n",
              "};\n",
              "})(self);\n",
              "</script> "
            ]
          },
          "metadata": {}
        },
        {
          "output_type": "stream",
          "name": "stdout",
          "text": [
            "Saving BostonHousing.csv to BostonHousing.csv\n"
          ]
        }
      ]
    },
    {
      "cell_type": "code",
      "source": [
        "# Create a session on Spark\n",
        "from pyspark.sql import SparkSession\n",
        "from pyspark.sql.functions import col, when\n",
        "from pyspark.sql.types import DoubleType\n",
        "\n",
        "# Initialize Spark session\n",
        "spark = SparkSession.builder.master(\"local[*]\").appName(\"Lab1\").getOrCreate()"
      ],
      "metadata": {
        "id": "A3JSJkhpDA6N"
      },
      "execution_count": 3,
      "outputs": []
    },
    {
      "cell_type": "code",
      "source": [
        "# 1 Read the given CSV file\n",
        "df = spark.read.csv('BostonHousing.csv', header=True, inferSchema=True)\n",
        "\n",
        "# 2 Display the first few rows of the dataframe\n",
        "df.show(5)"
      ],
      "metadata": {
        "colab": {
          "base_uri": "https://localhost:8080/"
        },
        "id": "vmXMFenEDRvv",
        "outputId": "2956cecb-bb43-412e-91ba-9bb5cb2ab81a"
      },
      "execution_count": 4,
      "outputs": [
        {
          "output_type": "stream",
          "name": "stdout",
          "text": [
            "+-------+----+-----+----+-----+-----+----+------+---+---+-------+------+-----+----+\n",
            "|   crim|  zn|indus|chas|  nox|   rm| age|   dis|rad|tax|ptratio|     b|lstat|medv|\n",
            "+-------+----+-----+----+-----+-----+----+------+---+---+-------+------+-----+----+\n",
            "|0.00632|18.0| 2.31|   0|0.538|6.575|65.2|  4.09|  1|296|   15.3| 396.9| 4.98|24.0|\n",
            "|0.02731| 0.0| 7.07|   0|0.469|6.421|78.9|4.9671|  2|242|   17.8| 396.9| 9.14|21.6|\n",
            "|0.02729| 0.0| 7.07|   0|0.469|7.185|61.1|4.9671|  2|242|   17.8|392.83| 4.03|34.7|\n",
            "|0.03237| 0.0| 2.18|   0|0.458|6.998|45.8|6.0622|  3|222|   18.7|394.63| 2.94|33.4|\n",
            "|0.06905| 0.0| 2.18|   0|0.458|7.147|54.2|6.0622|  3|222|   18.7| 396.9| 5.33|36.2|\n",
            "+-------+----+-----+----+-----+-----+----+------+---+---+-------+------+-----+----+\n",
            "only showing top 5 rows\n",
            "\n"
          ]
        }
      ]
    },
    {
      "cell_type": "code",
      "source": [
        "# 3 Count number of observation in the dataset\n",
        "df.count()"
      ],
      "metadata": {
        "colab": {
          "base_uri": "https://localhost:8080/"
        },
        "id": "HdHKZhoMDg9N",
        "outputId": "ce152494-976a-4161-cbe1-bdf79fcb38e3"
      },
      "execution_count": 5,
      "outputs": [
        {
          "output_type": "execute_result",
          "data": {
            "text/plain": [
              "506"
            ]
          },
          "metadata": {},
          "execution_count": 5
        }
      ]
    },
    {
      "cell_type": "code",
      "source": [
        "# 4. Show the Schema of your dataset\n",
        "df.printSchema()"
      ],
      "metadata": {
        "colab": {
          "base_uri": "https://localhost:8080/"
        },
        "id": "MOmRwwndEH_T",
        "outputId": "81eba740-8449-4e0f-bba4-5cb353302a90"
      },
      "execution_count": 7,
      "outputs": [
        {
          "output_type": "stream",
          "name": "stdout",
          "text": [
            "root\n",
            " |-- crim: double (nullable = true)\n",
            " |-- zn: double (nullable = true)\n",
            " |-- indus: double (nullable = true)\n",
            " |-- chas: integer (nullable = true)\n",
            " |-- nox: double (nullable = true)\n",
            " |-- rm: double (nullable = true)\n",
            " |-- age: double (nullable = true)\n",
            " |-- dis: double (nullable = true)\n",
            " |-- rad: integer (nullable = true)\n",
            " |-- tax: integer (nullable = true)\n",
            " |-- ptratio: double (nullable = true)\n",
            " |-- b: double (nullable = true)\n",
            " |-- lstat: double (nullable = true)\n",
            " |-- medv: double (nullable = true)\n",
            "\n"
          ]
        }
      ]
    },
    {
      "cell_type": "code",
      "source": [
        "# 5. Drop the column \"b\" from your dataset\n",
        "df = df.drop('zn')\n",
        "df.show(5)"
      ],
      "metadata": {
        "colab": {
          "base_uri": "https://localhost:8080/"
        },
        "id": "UI7kie43ETAI",
        "outputId": "55fc0232-ad22-4e95-daad-70e89bb7a8b8"
      },
      "execution_count": 8,
      "outputs": [
        {
          "output_type": "stream",
          "name": "stdout",
          "text": [
            "+-------+-----+----+-----+-----+----+------+---+---+-------+------+-----+----+\n",
            "|   crim|indus|chas|  nox|   rm| age|   dis|rad|tax|ptratio|     b|lstat|medv|\n",
            "+-------+-----+----+-----+-----+----+------+---+---+-------+------+-----+----+\n",
            "|0.00632| 2.31|   0|0.538|6.575|65.2|  4.09|  1|296|   15.3| 396.9| 4.98|24.0|\n",
            "|0.02731| 7.07|   0|0.469|6.421|78.9|4.9671|  2|242|   17.8| 396.9| 9.14|21.6|\n",
            "|0.02729| 7.07|   0|0.469|7.185|61.1|4.9671|  2|242|   17.8|392.83| 4.03|34.7|\n",
            "|0.03237| 2.18|   0|0.458|6.998|45.8|6.0622|  3|222|   18.7|394.63| 2.94|33.4|\n",
            "|0.06905| 2.18|   0|0.458|7.147|54.2|6.0622|  3|222|   18.7| 396.9| 5.33|36.2|\n",
            "+-------+-----+----+-----+-----+----+------+---+---+-------+------+-----+----+\n",
            "only showing top 5 rows\n",
            "\n"
          ]
        }
      ]
    },
    {
      "cell_type": "code",
      "source": [
        "# 6. Round all of the numerical columns into two decimal place\n",
        "from pyspark.sql import functions as f\n",
        "df.select(*[f.round(c, 2).alias(c) for c in df.columns]) \\\n",
        "  .show()"
      ],
      "metadata": {
        "colab": {
          "base_uri": "https://localhost:8080/"
        },
        "id": "eLSd0evtE8zX",
        "outputId": "a50d9f6c-0ae4-4cff-b996-11e2ccbf0d99"
      },
      "execution_count": 9,
      "outputs": [
        {
          "output_type": "stream",
          "name": "stdout",
          "text": [
            "+----+-----+----+----+----+-----+----+---+---+-------+------+-----+----+\n",
            "|crim|indus|chas| nox|  rm|  age| dis|rad|tax|ptratio|     b|lstat|medv|\n",
            "+----+-----+----+----+----+-----+----+---+---+-------+------+-----+----+\n",
            "|0.01| 2.31|   0|0.54|6.58| 65.2|4.09|  1|296|   15.3| 396.9| 4.98|24.0|\n",
            "|0.03| 7.07|   0|0.47|6.42| 78.9|4.97|  2|242|   17.8| 396.9| 9.14|21.6|\n",
            "|0.03| 7.07|   0|0.47|7.19| 61.1|4.97|  2|242|   17.8|392.83| 4.03|34.7|\n",
            "|0.03| 2.18|   0|0.46| 7.0| 45.8|6.06|  3|222|   18.7|394.63| 2.94|33.4|\n",
            "|0.07| 2.18|   0|0.46|7.15| 54.2|6.06|  3|222|   18.7| 396.9| 5.33|36.2|\n",
            "|0.03| 2.18|   0|0.46|6.43| 58.7|6.06|  3|222|   18.7|394.12| 5.21|28.7|\n",
            "|0.09| 7.87|   0|0.52|6.01| 66.6|5.56|  5|311|   15.2| 395.6|12.43|22.9|\n",
            "|0.14| 7.87|   0|0.52|6.17| 96.1|5.95|  5|311|   15.2| 396.9|19.15|27.1|\n",
            "|0.21| 7.87|   0|0.52|5.63|100.0|6.08|  5|311|   15.2|386.63|29.93|16.5|\n",
            "|0.17| 7.87|   0|0.52| 6.0| 85.9|6.59|  5|311|   15.2|386.71| 17.1|18.9|\n",
            "|0.22| 7.87|   0|0.52|6.38| 94.3|6.35|  5|311|   15.2|392.52|20.45|15.0|\n",
            "|0.12| 7.87|   0|0.52|6.01| 82.9|6.23|  5|311|   15.2| 396.9|13.27|18.9|\n",
            "|0.09| 7.87|   0|0.52|5.89| 39.0|5.45|  5|311|   15.2| 390.5|15.71|21.7|\n",
            "|0.63| 8.14|   0|0.54|5.95| 61.8|4.71|  4|307|   21.0| 396.9| 8.26|20.4|\n",
            "|0.64| 8.14|   0|0.54| 6.1| 84.5|4.46|  4|307|   21.0|380.02|10.26|18.2|\n",
            "|0.63| 8.14|   0|0.54|5.83| 56.5| 4.5|  4|307|   21.0|395.62| 8.47|19.9|\n",
            "|1.05| 8.14|   0|0.54|5.94| 29.3| 4.5|  4|307|   21.0|386.85| 6.58|23.1|\n",
            "|0.78| 8.14|   0|0.54|5.99| 81.7|4.26|  4|307|   21.0|386.75|14.67|17.5|\n",
            "| 0.8| 8.14|   0|0.54|5.46| 36.6| 3.8|  4|307|   21.0|288.99|11.69|20.2|\n",
            "|0.73| 8.14|   0|0.54|5.73| 69.5| 3.8|  4|307|   21.0|390.95|11.28|18.2|\n",
            "+----+-----+----+----+----+-----+----+---+---+-------+------+-----+----+\n",
            "only showing top 20 rows\n",
            "\n"
          ]
        }
      ]
    },
    {
      "cell_type": "code",
      "source": [
        "# 7. Create a new column (Age10)  with 10% increasing of 'age' column\n",
        "df = df.withColumn(\"Age10\", col(\"age\") * 1.10)\n",
        "df.select(*[f.round(c, 2).alias(c) for c in df.columns]) \\\n",
        "  .show()"
      ],
      "metadata": {
        "id": "Ttd1h00rGgQB",
        "colab": {
          "base_uri": "https://localhost:8080/"
        },
        "outputId": "3b2b2ec0-bd3a-4d19-edde-8c4570833ebb"
      },
      "execution_count": 12,
      "outputs": [
        {
          "output_type": "stream",
          "name": "stdout",
          "text": [
            "+----+-----+----+----+----+-----+----+---+---+-------+------+-----+----+------+\n",
            "|crim|indus|chas| nox|  rm|  age| dis|rad|tax|ptratio|     b|lstat|medv| Age10|\n",
            "+----+-----+----+----+----+-----+----+---+---+-------+------+-----+----+------+\n",
            "|0.01| 2.31|   0|0.54|6.58| 65.2|4.09|  1|296|   15.3| 396.9| 4.98|24.0| 71.72|\n",
            "|0.03| 7.07|   0|0.47|6.42| 78.9|4.97|  2|242|   17.8| 396.9| 9.14|21.6| 86.79|\n",
            "|0.03| 7.07|   0|0.47|7.19| 61.1|4.97|  2|242|   17.8|392.83| 4.03|34.7| 67.21|\n",
            "|0.03| 2.18|   0|0.46| 7.0| 45.8|6.06|  3|222|   18.7|394.63| 2.94|33.4| 50.38|\n",
            "|0.07| 2.18|   0|0.46|7.15| 54.2|6.06|  3|222|   18.7| 396.9| 5.33|36.2| 59.62|\n",
            "|0.03| 2.18|   0|0.46|6.43| 58.7|6.06|  3|222|   18.7|394.12| 5.21|28.7| 64.57|\n",
            "|0.09| 7.87|   0|0.52|6.01| 66.6|5.56|  5|311|   15.2| 395.6|12.43|22.9| 73.26|\n",
            "|0.14| 7.87|   0|0.52|6.17| 96.1|5.95|  5|311|   15.2| 396.9|19.15|27.1|105.71|\n",
            "|0.21| 7.87|   0|0.52|5.63|100.0|6.08|  5|311|   15.2|386.63|29.93|16.5| 110.0|\n",
            "|0.17| 7.87|   0|0.52| 6.0| 85.9|6.59|  5|311|   15.2|386.71| 17.1|18.9| 94.49|\n",
            "|0.22| 7.87|   0|0.52|6.38| 94.3|6.35|  5|311|   15.2|392.52|20.45|15.0|103.73|\n",
            "|0.12| 7.87|   0|0.52|6.01| 82.9|6.23|  5|311|   15.2| 396.9|13.27|18.9| 91.19|\n",
            "|0.09| 7.87|   0|0.52|5.89| 39.0|5.45|  5|311|   15.2| 390.5|15.71|21.7|  42.9|\n",
            "|0.63| 8.14|   0|0.54|5.95| 61.8|4.71|  4|307|   21.0| 396.9| 8.26|20.4| 67.98|\n",
            "|0.64| 8.14|   0|0.54| 6.1| 84.5|4.46|  4|307|   21.0|380.02|10.26|18.2| 92.95|\n",
            "|0.63| 8.14|   0|0.54|5.83| 56.5| 4.5|  4|307|   21.0|395.62| 8.47|19.9| 62.15|\n",
            "|1.05| 8.14|   0|0.54|5.94| 29.3| 4.5|  4|307|   21.0|386.85| 6.58|23.1| 32.23|\n",
            "|0.78| 8.14|   0|0.54|5.99| 81.7|4.26|  4|307|   21.0|386.75|14.67|17.5| 89.87|\n",
            "| 0.8| 8.14|   0|0.54|5.46| 36.6| 3.8|  4|307|   21.0|288.99|11.69|20.2| 40.26|\n",
            "|0.73| 8.14|   0|0.54|5.73| 69.5| 3.8|  4|307|   21.0|390.95|11.28|18.2| 76.45|\n",
            "+----+-----+----+----+----+-----+----+---+---+-------+------+-----+----+------+\n",
            "only showing top 20 rows\n",
            "\n"
          ]
        }
      ]
    },
    {
      "cell_type": "code",
      "source": [
        "# 8. Plot histogram Age10 column on a 2D Plot\n",
        "import matplotlib.pyplot as plt\n",
        "\n",
        "# Collect the data for the Age10 column\n",
        "age10_data = df.select(\"Age10\").rdd.flatMap(lambda x: x).collect()\n",
        "\n",
        "# Plot histogram of Age10 column\n",
        "plt.figure(figsize=(10, 6))\n",
        "plt.hist(age10_data, bins=20, edgecolor='k', alpha=0.7)\n",
        "plt.title('Histogram of Age10 Column')\n",
        "plt.xlabel('Age10')\n",
        "plt.ylabel('Frequency')\n",
        "plt.grid(True)\n",
        "plt.show()"
      ],
      "metadata": {
        "colab": {
          "base_uri": "https://localhost:8080/",
          "height": 564
        },
        "id": "iwcLV08w6Zfr",
        "outputId": "4439670d-45b5-4645-f37b-9e9ad0c8a380"
      },
      "execution_count": 13,
      "outputs": [
        {
          "output_type": "display_data",
          "data": {
            "text/plain": [
              "<Figure size 1000x600 with 1 Axes>"
            ],
            "image/png": "[encoded data removed]"
          },
          "metadata": {}
        }
      ]
    },
    {
      "cell_type": "code",
      "source": [
        "# 9. Provide Summary Statistics of all columns (count, mean, stddev,min, max)\n",
        "from pyspark.sql.functions import col\n",
        "\n",
        "# Calculate summary statistics for all columns\n",
        "summary_df = df.describe()\n",
        "summary_df.show()"
      ],
      "metadata": {
        "colab": {
          "base_uri": "https://localhost:8080/"
        },
        "id": "5PqOK-vK9G5d",
        "outputId": "f21cc797-3e1f-49ab-c89b-e26caf701fda"
      },
      "execution_count": 17,
      "outputs": [
        {
          "output_type": "stream",
          "name": "stdout",
          "text": [
            "+-------+------------------+------------------+------------------+-------------------+------------------+------------------+-----------------+-----------------+------------------+------------------+------------------+------------------+------------------+------------------+\n",
            "|summary|              crim|             indus|              chas|                nox|                rm|               age|              dis|              rad|               tax|           ptratio|                 b|             lstat|              medv|             Age10|\n",
            "+-------+------------------+------------------+------------------+-------------------+------------------+------------------+-----------------+-----------------+------------------+------------------+------------------+------------------+------------------+------------------+\n",
            "|  count|               506|               506|               506|                506|               506|               506|              506|              506|               506|               506|               506|               506|               506|               506|\n",
            "|   mean|3.6135235573122535|11.136778656126504|0.0691699604743083| 0.5546950592885372| 6.284634387351787| 68.57490118577078|3.795042687747034|9.549407114624506| 408.2371541501976|18.455533596837967|356.67403162055257|12.653063241106723|22.532806324110698| 75.43239130434783|\n",
            "| stddev| 8.601545105332491| 6.860352940897589|0.2539940413404101|0.11587767566755584|0.7026171434153232|28.148861406903595| 2.10571012662761|8.707259384239366|168.53711605495903|2.1649455237144455| 91.29486438415782| 7.141061511348571| 9.197104087379815| 30.96374754759397|\n",
            "|    min|           0.00632|              0.46|                 0|              0.385|             3.561|               2.9|           1.1296|                1|               187|              12.6|              0.32|              1.73|               5.0|              3.19|\n",
            "|    max|           88.9762|             27.74|                 1|              0.871|              8.78|             100.0|          12.1265|               24|               711|              22.0|             396.9|             37.97|              50.0|110.00000000000001|\n",
            "+-------+------------------+------------------+------------------+-------------------+------------------+------------------+-----------------+-----------------+------------------+------------------+------------------+------------------+------------------+------------------+\n",
            "\n"
          ]
        }
      ]
    },
    {
      "cell_type": "code",
      "source": [
        "# 9. Convert  Spark Dataframe to Pandas Dataframe\n",
        "pandas_df = df.toPandas()"
      ],
      "metadata": {
        "id": "McXqoZmK-2_0"
      },
      "execution_count": 18,
      "outputs": []
    },
    {
      "cell_type": "code",
      "source": [
        "# 10. Show the last 5 rows of Pandas DataFrame\n",
        "print(pandas_df.tail())"
      ],
      "metadata": {
        "colab": {
          "base_uri": "https://localhost:8080/"
        },
        "id": "q9y0C4Ee_E63",
        "outputId": "3ec759a6-b617-4658-fddd-2f292f5b8090"
      },
      "execution_count": 19,
      "outputs": [
        {
          "output_type": "stream",
          "name": "stdout",
          "text": [
            "        crim  indus  chas    nox     rm   age     dis  rad  tax  ptratio  \\\n",
            "501  0.06263  11.93     0  0.573  6.593  69.1  2.4786    1  273     21.0   \n",
            "502  0.04527  11.93     0  0.573  6.120  76.7  2.2875    1  273     21.0   \n",
            "503  0.06076  11.93     0  0.573  6.976  91.0  2.1675    1  273     21.0   \n",
            "504  0.10959  11.93     0  0.573  6.794  89.3  2.3889    1  273     21.0   \n",
            "505  0.04741  11.93     0  0.573  6.030  80.8  2.5050    1  273     21.0   \n",
            "\n",
            "          b  lstat  medv   Age10  \n",
            "501  391.99   9.67  22.4   76.01  \n",
            "502  396.90   9.08  20.6   84.37  \n",
            "503  396.90   5.64  23.9  100.10  \n",
            "504  393.45   6.48  22.0   98.23  \n",
            "505  396.90   7.88  11.9   88.88  \n"
          ]
        }
      ]
    }
  ]
}