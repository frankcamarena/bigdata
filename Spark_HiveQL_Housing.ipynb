{
  "nbformat": 4,
  "nbformat_minor": 0,
  "metadata": {
    "colab": {
      "provenance": []
    },
    "kernelspec": {
      "name": "python3",
      "display_name": "Python 3"
    },
    "language_info": {
      "name": "python"
    }
  },
  "cells": [
    {
      "cell_type": "code",
      "execution_count": 1,
      "metadata": {
        "colab": {
          "base_uri": "https://localhost:8080/"
        },
        "id": "Eg4nyo7heQNA",
        "outputId": "4a02f534-4de5-4bfa-a4c5-689f2a313ffb"
      },
      "outputs": [
        {
          "output_type": "stream",
          "name": "stdout",
          "text": [
            "Collecting pyspark\n",
            "  Downloading pyspark-3.5.1.tar.gz (317.0 MB)\n",
            "\u001b[2K     \u001b[90m━━━━━━━━━━━━━━━━━━━━━━━━━━━━━━━━━━━━━━━━\u001b[0m \u001b[32m317.0/317.0 MB\u001b[0m \u001b[31m2.2 MB/s\u001b[0m eta \u001b[36m0:00:00\u001b[0m\n",
            "\u001b[?25h  Preparing metadata (setup.py) ... \u001b[?25l\u001b[?25hdone\n",
            "Requirement already satisfied: py4j==0.10.9.7 in /usr/local/lib/python3.10/dist-packages (from pyspark) (0.10.9.7)\n",
            "Building wheels for collected packages: pyspark\n",
            "  Building wheel for pyspark (setup.py) ... \u001b[?25l\u001b[?25hdone\n",
            "  Created wheel for pyspark: filename=pyspark-3.5.1-py2.py3-none-any.whl size=317488491 sha256=e28764d1acbf655c09bf39ca0127a5b599f6cb8ec6d8b1fc1e4c038ad16a3113\n",
            "  Stored in directory: /root/.cache/pip/wheels/80/1d/60/2c256ed38dddce2fdd93be545214a63e02fbd8d74fb0b7f3a6\n",
            "Successfully built pyspark\n",
            "Installing collected packages: pyspark\n",
            "Successfully installed pyspark-3.5.1\n"
          ]
        }
      ],
      "source": [
        "# Install PySpark\n",
        "!pip install pyspark"
      ]
    },
    {
      "cell_type": "code",
      "source": [
        "# Upload data\n",
        "from google.colab import files\n",
        "uploaded = files.upload()"
      ],
      "metadata": {
        "colab": {
          "base_uri": "https://localhost:8080/",
          "height": 73
        },
        "id": "-90RRgJneb4S",
        "outputId": "976381a1-82f2-48d5-8fa6-2b2c5125ef34"
      },
      "execution_count": 2,
      "outputs": [
        {
          "output_type": "display_data",
          "data": {
            "text/plain": [
              "<IPython.core.display.HTML object>"
            ],
            "text/html": [
              "\n",
              "     <input type=\"file\" id=\"files-f0d1d999-dd1e-45f6-b44e-c464e6d873f4\" name=\"files[]\" multiple disabled\n",
              "        style=\"border:none\" />\n",
              "     <output id=\"result-f0d1d999-dd1e-45f6-b44e-c464e6d873f4\">\n",
              "      Upload widget is only available when the cell has been executed in the\n",
              "      current browser session. Please rerun this cell to enable.\n",
              "      </output>\n",
              "      <script>// Copyright 2017 Google LLC\n",
              "//\n",
              "// Licensed under the Apache License, Version 2.0 (the \"License\");\n",
              "// you may not use this file except in compliance with the License.\n",
              "// You may obtain a copy of the License at\n",
              "//\n",
              "//      http://www.apache.org/licenses/LICENSE-2.0\n",
              "//\n",
              "// Unless required by applicable law or agreed to in writing, software\n",
              "// distributed under the License is distributed on an \"AS IS\" BASIS,\n",
              "// WITHOUT WARRANTIES OR CONDITIONS OF ANY KIND, either express or implied.\n",
              "// See the License for the specific language governing permissions and\n",
              "// limitations under the License.\n",
              "\n",
              "/**\n",
              " * @fileoverview Helpers for google.colab Python module.\n",
              " */\n",
              "(function(scope) {\n",
              "function span(text, styleAttributes = {}) {\n",
              "  const element = document.createElement('span');\n",
              "  element.textContent = text;\n",
              "  for (const key of Object.keys(styleAttributes)) {\n",
              "    element.style[key] = styleAttributes[key];\n",
              "  }\n",
              "  return element;\n",
              "}\n",
              "\n",
              "// Max number of bytes which will be uploaded at a time.\n",
              "const MAX_PAYLOAD_SIZE = 100 * 1024;\n",
              "\n",
              "function _uploadFiles(inputId, outputId) {\n",
              "  const steps = uploadFilesStep(inputId, outputId);\n",
              "  const outputElement = document.getElementById(outputId);\n",
              "  // Cache steps on the outputElement to make it available for the next call\n",
              "  // to uploadFilesContinue from Python.\n",
              "  outputElement.steps = steps;\n",
              "\n",
              "  return _uploadFilesContinue(outputId);\n",
              "}\n",
              "\n",
              "// This is roughly an async generator (not supported in the browser yet),\n",
              "// where there are multiple asynchronous steps and the Python side is going\n",
              "// to poll for completion of each step.\n",
              "// This uses a Promise to block the python side on completion of each step,\n",
              "// then passes the result of the previous step as the input to the next step.\n",
              "function _uploadFilesContinue(outputId) {\n",
              "  const outputElement = document.getElementById(outputId);\n",
              "  const steps = outputElement.steps;\n",
              "\n",
              "  const next = steps.next(outputElement.lastPromiseValue);\n",
              "  return Promise.resolve(next.value.promise).then((value) => {\n",
              "    // Cache the last promise value to make it available to the next\n",
              "    // step of the generator.\n",
              "    outputElement.lastPromiseValue = value;\n",
              "    return next.value.response;\n",
              "  });\n",
              "}\n",
              "\n",
              "/**\n",
              " * Generator function which is called between each async step of the upload\n",
              " * process.\n",
              " * @param {string} inputId Element ID of the input file picker element.\n",
              " * @param {string} outputId Element ID of the output display.\n",
              " * @return {!Iterable<!Object>} Iterable of next steps.\n",
              " */\n",
              "function* uploadFilesStep(inputId, outputId) {\n",
              "  const inputElement = document.getElementById(inputId);\n",
              "  inputElement.disabled = false;\n",
              "\n",
              "  const outputElement = document.getElementById(outputId);\n",
              "  outputElement.innerHTML = '';\n",
              "\n",
              "  const pickedPromise = new Promise((resolve) => {\n",
              "    inputElement.addEventListener('change', (e) => {\n",
              "      resolve(e.target.files);\n",
              "    });\n",
              "  });\n",
              "\n",
              "  const cancel = document.createElement('button');\n",
              "  inputElement.parentElement.appendChild(cancel);\n",
              "  cancel.textContent = 'Cancel upload';\n",
              "  const cancelPromise = new Promise((resolve) => {\n",
              "    cancel.onclick = () => {\n",
              "      resolve(null);\n",
              "    };\n",
              "  });\n",
              "\n",
              "  // Wait for the user to pick the files.\n",
              "  const files = yield {\n",
              "    promise: Promise.race([pickedPromise, cancelPromise]),\n",
              "    response: {\n",
              "      action: 'starting',\n",
              "    }\n",
              "  };\n",
              "\n",
              "  cancel.remove();\n",
              "\n",
              "  // Disable the input element since further picks are not allowed.\n",
              "  inputElement.disabled = true;\n",
              "\n",
              "  if (!files) {\n",
              "    return {\n",
              "      response: {\n",
              "        action: 'complete',\n",
              "      }\n",
              "    };\n",
              "  }\n",
              "\n",
              "  for (const file of files) {\n",
              "    const li = document.createElement('li');\n",
              "    li.append(span(file.name, {fontWeight: 'bold'}));\n",
              "    li.append(span(\n",
              "        `(${file.type || 'n/a'}) - ${file.size} bytes, ` +\n",
              "        `last modified: ${\n",
              "            file.lastModifiedDate ? file.lastModifiedDate.toLocaleDateString() :\n",
              "                                    'n/a'} - `));\n",
              "    const percent = span('0% done');\n",
              "    li.appendChild(percent);\n",
              "\n",
              "    outputElement.appendChild(li);\n",
              "\n",
              "    const fileDataPromise = new Promise((resolve) => {\n",
              "      const reader = new FileReader();\n",
              "      reader.onload = (e) => {\n",
              "        resolve(e.target.result);\n",
              "      };\n",
              "      reader.readAsArrayBuffer(file);\n",
              "    });\n",
              "    // Wait for the data to be ready.\n",
              "    let fileData = yield {\n",
              "      promise: fileDataPromise,\n",
              "      response: {\n",
              "        action: 'continue',\n",
              "      }\n",
              "    };\n",
              "\n",
              "    // Use a chunked sending to avoid message size limits. See b/62115660.\n",
              "    let position = 0;\n",
              "    do {\n",
              "      const length = Math.min(fileData.byteLength - position, MAX_PAYLOAD_SIZE);\n",
              "      const chunk = new Uint8Array(fileData, position, length);\n",
              "      position += length;\n",
              "\n",
              "      const base64 = btoa(String.fromCharCode.apply(null, chunk));\n",
              "      yield {\n",
              "        response: {\n",
              "          action: 'append',\n",
              "          file: file.name,\n",
              "          data: base64,\n",
              "        },\n",
              "      };\n",
              "\n",
              "      let percentDone = fileData.byteLength === 0 ?\n",
              "          100 :\n",
              "          Math.round((position / fileData.byteLength) * 100);\n",
              "      percent.textContent = `${percentDone}% done`;\n",
              "\n",
              "    } while (position < fileData.byteLength);\n",
              "  }\n",
              "\n",
              "  // All done.\n",
              "  yield {\n",
              "    response: {\n",
              "      action: 'complete',\n",
              "    }\n",
              "  };\n",
              "}\n",
              "\n",
              "scope.google = scope.google || {};\n",
              "scope.google.colab = scope.google.colab || {};\n",
              "scope.google.colab._files = {\n",
              "  _uploadFiles,\n",
              "  _uploadFilesContinue,\n",
              "};\n",
              "})(self);\n",
              "</script> "
            ]
          },
          "metadata": {}
        },
        {
          "output_type": "stream",
          "name": "stdout",
          "text": [
            "Saving BostonHousing.csv to BostonHousing.csv\n"
          ]
        }
      ]
    },
    {
      "cell_type": "code",
      "source": [
        "# Create a session on Spark\n",
        "from pyspark.sql import SparkSession\n",
        "from pyspark.sql.functions import col, when\n",
        "from pyspark.sql.types import DoubleType\n",
        "\n",
        "# Initialize Spark session\n",
        "spark = SparkSession.builder.master(\"local[*]\").appName(\"Hive\").getOrCreate()"
      ],
      "metadata": {
        "id": "Ka5jYn6UfJ08"
      },
      "execution_count": 3,
      "outputs": []
    },
    {
      "cell_type": "markdown",
      "source": [
        "**Task 1: Data Overview**"
      ],
      "metadata": {
        "id": "KF3-Nh0RfAQu"
      }
    },
    {
      "cell_type": "code",
      "source": [
        "# Read the given CSV file\n",
        "df = spark.read.csv('BostonHousing.csv', header=True, inferSchema=True)\n",
        "\n",
        "# Display the first few rows of the dataframe\n",
        "df.show(5)\n",
        "\n",
        "# Find and show the total number of records in the dataset\n",
        "print(f\"Total number of records: {df.count()}\")\n"
      ],
      "metadata": {
        "colab": {
          "base_uri": "https://localhost:8080/"
        },
        "id": "0X05Fn7Yezd3",
        "outputId": "e2c5373a-8d0c-4731-c30e-fd1e526ec47b"
      },
      "execution_count": 7,
      "outputs": [
        {
          "output_type": "stream",
          "name": "stdout",
          "text": [
            "+-------+----+-----+----+-----+-----+----+------+---+---+-------+------+-----+----+\n",
            "|   crim|  zn|indus|chas|  nox|   rm| age|   dis|rad|tax|ptratio|     b|lstat|medv|\n",
            "+-------+----+-----+----+-----+-----+----+------+---+---+-------+------+-----+----+\n",
            "|0.00632|18.0| 2.31|   0|0.538|6.575|65.2|  4.09|  1|296|   15.3| 396.9| 4.98|24.0|\n",
            "|0.02731| 0.0| 7.07|   0|0.469|6.421|78.9|4.9671|  2|242|   17.8| 396.9| 9.14|21.6|\n",
            "|0.02729| 0.0| 7.07|   0|0.469|7.185|61.1|4.9671|  2|242|   17.8|392.83| 4.03|34.7|\n",
            "|0.03237| 0.0| 2.18|   0|0.458|6.998|45.8|6.0622|  3|222|   18.7|394.63| 2.94|33.4|\n",
            "|0.06905| 0.0| 2.18|   0|0.458|7.147|54.2|6.0622|  3|222|   18.7| 396.9| 5.33|36.2|\n",
            "+-------+----+-----+----+-----+-----+----+------+---+---+-------+------+-----+----+\n",
            "only showing top 5 rows\n",
            "\n",
            "Total number of records: 506\n"
          ]
        }
      ]
    },
    {
      "cell_type": "markdown",
      "source": [
        "**Task 2: Descriptive Statistics**"
      ],
      "metadata": {
        "id": "Mzb7HZ5gf4_9"
      }
    },
    {
      "cell_type": "code",
      "source": [
        "# Calculate and display basic statistics for the \"medv\" column\n",
        "medv_stats = df.select(\"medv\").describe().show()\n",
        "\n",
        "# Calculate and display the mean of the \"rm\" column\n",
        "mean_rm = df.select(\"rm\").groupBy().mean().first()[0]\n",
        "print(f\"Mean number of rooms per dwelling (rm): {mean_rm}\")"
      ],
      "metadata": {
        "colab": {
          "base_uri": "https://localhost:8080/"
        },
        "id": "N_wXg85wf4U-",
        "outputId": "d6e7be60-373e-451e-e020-479a4d7f25c8"
      },
      "execution_count": 8,
      "outputs": [
        {
          "output_type": "stream",
          "name": "stdout",
          "text": [
            "+-------+------------------+\n",
            "|summary|              medv|\n",
            "+-------+------------------+\n",
            "|  count|               506|\n",
            "|   mean|22.532806324110698|\n",
            "| stddev| 9.197104087379815|\n",
            "|    min|               5.0|\n",
            "|    max|              50.0|\n",
            "+-------+------------------+\n",
            "\n",
            "Mean number of rooms per dwelling (rm): 6.284634387351787\n"
          ]
        }
      ]
    },
    {
      "cell_type": "markdown",
      "source": [
        "**Task 3: Data Exploration**"
      ],
      "metadata": {
        "id": "csTUIJW3hbd7"
      }
    },
    {
      "cell_type": "code",
      "source": [
        "# Identify the property with the highest crime rate (\"crim\")\n",
        "highest_crim = df.orderBy(df.crim.desc()).first()\n",
        "print(\"Property with the highest crime rate:\")\n",
        "print(highest_crim)\n",
        "\n",
        "# Find the property with the lowest median home value (\"medv\")\n",
        "lowest_medv = df.orderBy(df.medv.asc()).first()\n",
        "print(\"Property with the lowest median home value:\")\n",
        "print(lowest_medv)"
      ],
      "metadata": {
        "colab": {
          "base_uri": "https://localhost:8080/"
        },
        "id": "7h8WFqQCfZ_r",
        "outputId": "49345204-ffb7-4f73-8d3f-5c79ceb3d670"
      },
      "execution_count": 13,
      "outputs": [
        {
          "output_type": "stream",
          "name": "stdout",
          "text": [
            "Property with the highest crime rate:\n",
            "Row(crim=88.9762, zn=0.0, indus=18.1, chas=0, nox=0.671, rm=6.968, age=91.9, dis=1.4165, rad=24, tax=666, ptratio=20.2, b=396.9, lstat=17.21, medv=10.4)\n",
            "Property with the lowest median home value:\n",
            "Row(crim=38.3518, zn=0.0, indus=18.1, chas=0, nox=0.693, rm=5.453, age=100.0, dis=1.4896, rad=24, tax=666, ptratio=20.2, b=396.9, lstat=30.59, medv=5.0)\n"
          ]
        }
      ]
    },
    {
      "cell_type": "markdown",
      "source": [
        "**Task 4: Data Distribution Analysis**"
      ],
      "metadata": {
        "id": "HTOBs5s4ibb3"
      }
    },
    {
      "cell_type": "code",
      "source": [
        "import matplotlib.pyplot as plt\n",
        "\n",
        "# Create a histogram showing the distribution of the \"age\" column\n",
        "age_data = df.select(\"age\").rdd.flatMap(lambda x: x).collect()\n",
        "plt.hist(age_data, bins=20, edgecolor='k')\n",
        "plt.xlabel('Age')\n",
        "plt.ylabel('Frequency')\n",
        "plt.title('Distribution of Age')\n",
        "plt.show()"
      ],
      "metadata": {
        "colab": {
          "base_uri": "https://localhost:8080/",
          "height": 472
        },
        "id": "483BFF9giHLG",
        "outputId": "cba1f484-c4a8-45cd-d9b6-bc8cadd34b27"
      },
      "execution_count": 14,
      "outputs": [
        {
          "output_type": "display_data",
          "data": {
            "text/plain": [
              "<Figure size 640x480 with 1 Axes>"
            ],
            "image/png": "[encoded data removed]"
          },
          "metadata": {}
        }
      ]
    },
    {
      "cell_type": "code",
      "source": [
        "# Calculate and report the percentage of properties with a \"chas\" value of 1\n",
        "total_chas_1 = df.filter(df.chas == 1).count()\n",
        "percentage_chas_1 = (total_chas_1 / df.count()) * 100\n",
        "print(f\"Percentage of properties with 'chas' value of 1: {percentage_chas_1:.2f}%\")"
      ],
      "metadata": {
        "colab": {
          "base_uri": "https://localhost:8080/"
        },
        "id": "9COwvHMcipuP",
        "outputId": "f2da1297-9076-43cf-91cb-6a67c3142a1e"
      },
      "execution_count": 15,
      "outputs": [
        {
          "output_type": "stream",
          "name": "stdout",
          "text": [
            "Percentage of properties with 'chas' value of 1: 6.92%\n"
          ]
        }
      ]
    },
    {
      "cell_type": "markdown",
      "source": [
        "**Task 5: Correlation Analysis**"
      ],
      "metadata": {
        "id": "0O87HG-VjK92"
      }
    },
    {
      "cell_type": "code",
      "source": [
        "# Calculate the correlation coefficient between \"rm\" and \"medv\"\n",
        "corr_rm_medv = df.corr(\"rm\", \"medv\")\n",
        "print(f\"Correlation coefficient between 'rm' and 'medv': {corr_rm_medv}\")"
      ],
      "metadata": {
        "colab": {
          "base_uri": "https://localhost:8080/"
        },
        "id": "TQnX0nnZjS-Z",
        "outputId": "ff469a7c-0057-411b-a697-6e8f14369a1c"
      },
      "execution_count": 16,
      "outputs": [
        {
          "output_type": "stream",
          "name": "stdout",
          "text": [
            "Correlation coefficient between 'rm' and 'medv': 0.6953599470715401\n"
          ]
        }
      ]
    },
    {
      "cell_type": "markdown",
      "source": [
        "The correlation coefficient of 0.695 between rm and medv suggests a positive and moderately strong relationship. This implies that properties with more rooms tend to have higher median home values."
      ],
      "metadata": {
        "id": "Ul_du_epkExk"
      }
    },
    {
      "cell_type": "code",
      "source": [
        "# Calculate the correlation coefficient between \"ptratio\" and \"nox\"\n",
        "corr_ptratio_nox = df.corr(\"ptratio\", \"nox\")\n",
        "print(f\"Correlation coefficient between 'ptratio' and 'nox': {corr_ptratio_nox}\")"
      ],
      "metadata": {
        "colab": {
          "base_uri": "https://localhost:8080/"
        },
        "id": "m1X4N5_rkNtc",
        "outputId": "39c8578f-3cb4-42b4-84df-8576c46d2ab7"
      },
      "execution_count": 17,
      "outputs": [
        {
          "output_type": "stream",
          "name": "stdout",
          "text": [
            "Correlation coefficient between 'ptratio' and 'nox': 0.18893267711276893\n"
          ]
        }
      ]
    },
    {
      "cell_type": "markdown",
      "source": [
        "**Task 6: Advanced Querying**"
      ],
      "metadata": {
        "id": "tCvg52sAkze3"
      }
    },
    {
      "cell_type": "code",
      "source": [
        "# Register the DataFrame as a SQL temporary view\n",
        "df.createOrReplaceTempView(\"boston_housing\")\n",
        "\n",
        "# Identify and display the top 5 neighborhoods with the highest median home values (\"medv\")\n",
        "top_5_neighborhoods = spark.sql(\"\"\"\n",
        "    SELECT *\n",
        "    FROM boston_housing\n",
        "    ORDER BY medv DESC\n",
        "    LIMIT 5\n",
        "\"\"\")\n",
        "top_5_neighborhoods.show()"
      ],
      "metadata": {
        "colab": {
          "base_uri": "https://localhost:8080/"
        },
        "id": "KHQ4bkzek0oS",
        "outputId": "f8dcaf55-2118-45f2-b85f-36319fecffcf"
      },
      "execution_count": 18,
      "outputs": [
        {
          "output_type": "stream",
          "name": "stdout",
          "text": [
            "+-------+----+-----+----+-----+-----+----+------+---+---+-------+------+-----+----+\n",
            "|   crim|  zn|indus|chas|  nox|   rm| age|   dis|rad|tax|ptratio|     b|lstat|medv|\n",
            "+-------+----+-----+----+-----+-----+----+------+---+---+-------+------+-----+----+\n",
            "|1.51902| 0.0|19.58|   1|0.605|8.375|93.9| 2.162|  5|403|   14.7|388.45| 3.32|50.0|\n",
            "|0.01381|80.0| 0.46|   0|0.422|7.875|32.0|5.6484|  4|255|   14.4|394.23| 2.97|50.0|\n",
            "|2.01019| 0.0|19.58|   0|0.605|7.929|96.2|2.0459|  5|403|   14.7| 369.3|  3.7|50.0|\n",
            "|1.83377| 0.0|19.58|   1|0.605|7.802|98.2|2.0407|  5|403|   14.7|389.61| 1.92|50.0|\n",
            "|1.46336| 0.0|19.58|   0|0.605|7.489|90.8|1.9709|  5|403|   14.7|374.43| 1.73|50.0|\n",
            "+-------+----+-----+----+-----+-----+----+------+---+---+-------+------+-----+----+\n",
            "\n"
          ]
        }
      ]
    },
    {
      "cell_type": "code",
      "source": [
        "# Calculate and show the average property age for neighborhoods with a \"chas\" value of 1\n",
        "avg_age_chas_1 = spark.sql(\"\"\"\n",
        "    SELECT AVG(age) AS avg_age_chas_1\n",
        "    FROM boston_housing\n",
        "    WHERE chas = 1\n",
        "\"\"\")\n",
        "avg_age_chas_1.show()"
      ],
      "metadata": {
        "colab": {
          "base_uri": "https://localhost:8080/"
        },
        "id": "X7At3c8WmUem",
        "outputId": "532ec7af-f42d-4713-d4af-8e4c70c0deb5"
      },
      "execution_count": 19,
      "outputs": [
        {
          "output_type": "stream",
          "name": "stdout",
          "text": [
            "+-----------------+\n",
            "|   avg_age_chas_1|\n",
            "+-----------------+\n",
            "|77.50000000000001|\n",
            "+-----------------+\n",
            "\n"
          ]
        }
      ]
    },
    {
      "cell_type": "code",
      "source": [
        "# Calculate and show the average property age for neighborhoods with a \"chas\" value of 0\n",
        "avg_age_chas_0 = spark.sql(\"\"\"\n",
        "    SELECT AVG(age) AS avg_age_chas_0\n",
        "    FROM boston_housing\n",
        "    WHERE chas = 0\n",
        "\"\"\")\n",
        "avg_age_chas_0.show()"
      ],
      "metadata": {
        "colab": {
          "base_uri": "https://localhost:8080/"
        },
        "id": "Tz3bNrcCmZCS",
        "outputId": "b910f67a-e703-4d57-e37e-e08db39b5bcd"
      },
      "execution_count": 20,
      "outputs": [
        {
          "output_type": "stream",
          "name": "stdout",
          "text": [
            "+-----------------+\n",
            "|   avg_age_chas_0|\n",
            "+-----------------+\n",
            "|67.91167728237794|\n",
            "+-----------------+\n",
            "\n"
          ]
        }
      ]
    },
    {
      "cell_type": "markdown",
      "source": [
        "**Task 7: Visualization**"
      ],
      "metadata": {
        "id": "TouVuB58mb-p"
      }
    },
    {
      "cell_type": "code",
      "source": [
        "# Create a Hive view named \"property_age_view\"\n",
        "spark.sql(\"\"\"\n",
        "    CREATE OR REPLACE TEMP VIEW property_age_view AS\n",
        "    SELECT age, medv\n",
        "    FROM boston_housing\n",
        "\"\"\")"
      ],
      "metadata": {
        "colab": {
          "base_uri": "https://localhost:8080/"
        },
        "id": "RWG-2c3omezm",
        "outputId": "a96af936-17d9-4b13-bb7b-37841064beb4"
      },
      "execution_count": 21,
      "outputs": [
        {
          "output_type": "execute_result",
          "data": {
            "text/plain": [
              "DataFrame[]"
            ]
          },
          "metadata": {},
          "execution_count": 21
        }
      ]
    },
    {
      "cell_type": "code",
      "source": [
        "# Retrieve data from the view\n",
        "property_age_data = spark.sql(\"SELECT * FROM property_age_view\").toPandas()\n",
        "\n",
        "# Plot a scatter plot of property age against median home value\n",
        "plt.scatter(property_age_data['age'], property_age_data['medv'], alpha=0.5)\n",
        "plt.xlabel('Age')\n",
        "plt.ylabel('Median Home Value (medv)')\n",
        "plt.title('Scatter Plot of Property Age vs. Median Home Value')\n",
        "plt.show()"
      ],
      "metadata": {
        "colab": {
          "base_uri": "https://localhost:8080/",
          "height": 472
        },
        "id": "4XhBpseRmpQt",
        "outputId": "1de15812-ff00-4ed0-dae2-c2e79efdc318"
      },
      "execution_count": 22,
      "outputs": [
        {
          "output_type": "display_data",
          "data": {
            "text/plain": [
              "<Figure size 640x480 with 1 Axes>"
            ],
            "image/png": "[encoded data removed]"
          },
          "metadata": {}
        }
      ]
    },
    {
      "cell_type": "markdown",
      "source": [
        "**Task 8: Outliers Detection**"
      ],
      "metadata": {
        "id": "GOVpTULvodvM"
      }
    },
    {
      "cell_type": "code",
      "source": [
        "# Identify and report properties with a \"crim\" value greater than 10\n",
        "outliers = df.filter(df.crim > 10)\n",
        "outliers.show()"
      ],
      "metadata": {
        "colab": {
          "base_uri": "https://localhost:8080/"
        },
        "id": "JmMoVjj1oh_g",
        "outputId": "9c22323e-417b-4455-a65e-018bb3a19382"
      },
      "execution_count": 23,
      "outputs": [
        {
          "output_type": "stream",
          "name": "stdout",
          "text": [
            "+-------+---+-----+----+-----+-----+-----+------+---+---+-------+------+-----+----+\n",
            "|   crim| zn|indus|chas|  nox|   rm|  age|   dis|rad|tax|ptratio|     b|lstat|medv|\n",
            "+-------+---+-----+----+-----+-----+-----+------+---+---+-------+------+-----+----+\n",
            "|13.5222|0.0| 18.1|   0|0.631|3.863|100.0|1.5106| 24|666|   20.2|131.42|13.33|23.1|\n",
            "|11.1081|0.0| 18.1|   0|0.668|4.906|100.0|1.1742| 24|666|   20.2| 396.9|34.77|13.8|\n",
            "|18.4982|0.0| 18.1|   0|0.668|4.138|100.0| 1.137| 24|666|   20.2| 396.9|37.97|13.8|\n",
            "|19.6091|0.0| 18.1|   0|0.671|7.313| 97.9|1.3163| 24|666|   20.2| 396.9|13.44|15.0|\n",
            "| 15.288|0.0| 18.1|   0|0.671|6.649| 93.3|1.3449| 24|666|   20.2|363.02|23.24|13.9|\n",
            "|23.6482|0.0| 18.1|   0|0.671| 6.38| 96.2|1.3861| 24|666|   20.2| 396.9|23.69|13.1|\n",
            "|17.8667|0.0| 18.1|   0|0.671|6.223|100.0|1.3861| 24|666|   20.2|393.74|21.78|10.2|\n",
            "|88.9762|0.0| 18.1|   0|0.671|6.968| 91.9|1.4165| 24|666|   20.2| 396.9|17.21|10.4|\n",
            "|15.8744|0.0| 18.1|   0|0.671|6.545| 99.1|1.5192| 24|666|   20.2| 396.9|21.08|10.9|\n",
            "|20.0849|0.0| 18.1|   0|  0.7|4.368| 91.2|1.4395| 24|666|   20.2|285.83|30.63| 8.8|\n",
            "|16.8118|0.0| 18.1|   0|  0.7|5.277| 98.1|1.4261| 24|666|   20.2| 396.9|30.81| 7.2|\n",
            "|24.3938|0.0| 18.1|   0|  0.7|4.652|100.0|1.4672| 24|666|   20.2| 396.9|28.28|10.5|\n",
            "|22.5971|0.0| 18.1|   0|  0.7|  5.0| 89.5|1.5184| 24|666|   20.2| 396.9|31.99| 7.4|\n",
            "|14.3337|0.0| 18.1|   0|  0.7| 4.88|100.0|1.5895| 24|666|   20.2|372.92|30.62|10.2|\n",
            "|11.5779|0.0| 18.1|   0|  0.7|5.036| 97.0|  1.77| 24|666|   20.2| 396.9|25.68| 9.7|\n",
            "|13.3598|0.0| 18.1|   0|0.693|5.887| 94.7|1.7821| 24|666|   20.2| 396.9|16.35|12.7|\n",
            "|38.3518|0.0| 18.1|   0|0.693|5.453|100.0|1.4896| 24|666|   20.2| 396.9|30.59| 5.0|\n",
            "|25.0461|0.0| 18.1|   0|0.693|5.987|100.0|1.5888| 24|666|   20.2| 396.9|26.77| 5.6|\n",
            "|14.2362|0.0| 18.1|   0|0.693|6.343|100.0|1.5741| 24|666|   20.2| 396.9|20.32| 7.2|\n",
            "|24.8017|0.0| 18.1|   0|0.693|5.349| 96.0|1.7028| 24|666|   20.2| 396.9|19.77| 8.3|\n",
            "+-------+---+-----+----+-----+-----+-----+------+---+---+-------+------+-----+----+\n",
            "only showing top 20 rows\n",
            "\n"
          ]
        }
      ]
    },
    {
      "cell_type": "markdown",
      "source": [
        "Detecting outliers is a vital step in data analysis. It helps in ensuring data quality, improving model performance, and gaining insights into extreme cases that might require special attention. In the the Boston Housing dataset, identifying properties with exceptionally high crime rates can provide valuable insights for real estate stakeholders, policymakers, and researchers."
      ],
      "metadata": {
        "id": "DnVQ2XbkpGRd"
      }
    },
    {
      "cell_type": "markdown",
      "source": [
        "**Task 9: Hypothesis Testing**"
      ],
      "metadata": {
        "id": "A5Jp0Eo8pKHy"
      }
    },
    {
      "cell_type": "markdown",
      "source": [
        "Hypothesis\n",
        "Null Hypothesis (H0): There is no significant relationship between the average number of rooms and the median home value.\n",
        "Alternative Hypothesis (H1): There is a significant relationship between the average number of rooms and the median home value."
      ],
      "metadata": {
        "id": "tTH2MiG1pRuv"
      }
    },
    {
      "cell_type": "code",
      "source": [
        "from scipy import stats\n",
        "import math\n",
        "\n",
        "# Calculate the correlation coefficient between \"rm\" and \"medv\"\n",
        "corr_rm_medv = df.corr(\"rm\", \"medv\")\n",
        "print(f\"Correlation coefficient between 'rm' and 'medv': {corr_rm_medv}\")\n",
        "\n",
        "# Number of observations\n",
        "n = df.count()\n",
        "\n",
        "# Calculate the t-statistic\n",
        "t_statistic = corr_rm_medv * math.sqrt((n - 2) / (1 - corr_rm_medv**2))\n",
        "print(f\"T-statistic: {t_statistic}\")\n",
        "\n",
        "# Degrees of freedom\n",
        "df_degrees = n - 2\n",
        "\n",
        "# Calculate the p-value\n",
        "p_value = 2 * (1 - stats.t.cdf(abs(t_statistic), df=df_degrees))\n",
        "print(f\"P-value: {p_value}\")\n",
        "\n",
        "# Decision\n",
        "alpha = 0.05\n",
        "if p_value <= alpha:\n",
        "    print(\"Reject the null hypothesis: There is a significant relationship between 'rm' and 'medv'.\")\n",
        "else:\n",
        "    print(\"Fail to reject the null hypothesis: There is no significant relationship between 'rm' and 'medv'.\")"
      ],
      "metadata": {
        "colab": {
          "base_uri": "https://localhost:8080/"
        },
        "id": "pxxpdhU7tN6X",
        "outputId": "d407bd42-1a67-4c2b-9985-3493af44dd94"
      },
      "execution_count": 24,
      "outputs": [
        {
          "output_type": "stream",
          "name": "stdout",
          "text": [
            "Correlation coefficient between 'rm' and 'medv': 0.6953599470715401\n",
            "T-statistic: 21.7220335115382\n",
            "P-value: 0.0\n",
            "Reject the null hypothesis: There is a significant relationship between 'rm' and 'medv'.\n"
          ]
        }
      ]
    }
  ]
}